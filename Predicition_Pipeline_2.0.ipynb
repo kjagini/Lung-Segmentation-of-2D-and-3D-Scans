{
 "cells": [
  {
   "cell_type": "code",
   "execution_count": 1,
   "metadata": {},
   "outputs": [],
   "source": [
    "%matplotlib inline\n",
    "import numpy as np # linear algebra\n",
    "import pandas as pd # data processing, CSV file I/O (e.g. pd.read_csv)\n",
    "import os\n",
    "import matplotlib.pyplot as plt\n",
    "import nibabel as nib\n",
    "from glob import glob\n",
    "from sklearn.model_selection import train_test_split\n",
    "\n",
    "from skimage.util import montage as montage2d\n",
    "from conv import ConvRNN2D, ConvFF2DCell, ConvFF2D\n",
    "from keras.models import model_from_json\n",
    "\n",
    "\n",
    "from keras.layers import ConvLSTM2D, Bidirectional, BatchNormalization, Conv3D, Cropping3D, ZeroPadding3D\n",
    "from keras.models import Sequential\n",
    "\n",
    "def get_the_prediction(loaded_data):    \n",
    "    sim_model = Sequential()\n",
    "    sim_model.add(BatchNormalization(input_shape = (None, None, None, 1)))\n",
    "    sim_model.add(Conv3D(8, \n",
    "                         kernel_size = (1, 5, 5), \n",
    "                         padding = 'same',\n",
    "                         activation = 'relu'))\n",
    "    sim_model.add(Conv3D(8, \n",
    "                         kernel_size = (3, 3, 3), \n",
    "                         padding = 'same',\n",
    "                         activation = 'relu'))\n",
    "    sim_model.add(BatchNormalization())\n",
    "    sim_model.add(Bidirectional(ConvFF2D(16, \n",
    "                                           kernel_size = (3, 3),\n",
    "                                           padding = 'same',\n",
    "                                           return_sequences = True)))\n",
    "    sim_model.add(Bidirectional(ConvFF2D(32, \n",
    "                                           kernel_size = (3, 3),\n",
    "                                           padding = 'same',\n",
    "                                           return_sequences = True)))\n",
    "    sim_model.add(Conv3D(8, \n",
    "                         kernel_size = (1, 3, 3), \n",
    "                         padding = 'same',\n",
    "                         activation = 'relu'))\n",
    "    sim_model.add(Conv3D(1, \n",
    "                         kernel_size = (1,1,1), \n",
    "                         activation = 'sigmoid'))\n",
    "    sim_model.add(Cropping3D((1, 2, 2))) # avoid skewing boundaries\n",
    "    sim_model.add(ZeroPadding3D((1, 2, 2)))\n",
    "#     sim_model.summary()\n",
    "\n",
    "    sim_model.load_weights('convlstm_model_weights.best.hdf5')\n",
    "\n",
    "\n",
    "\n",
    "\n",
    "    pred_seg = sim_model.predict(loaded_data)\n",
    "\n",
    "    return(pred_seg)\n",
    "\n",
    "\n",
    "loaded_data = np.load('prediction_array.npy')\n",
    "prediction = get_the_prediction(loaded_data)\n",
    "plt.imshow(prediction[0][100])\n",
    "\n",
    "plt.imshow(loaded_data[0][100])"
   ]
  },
  {
   "cell_type": "code",
   "execution_count": null,
   "metadata": {},
   "outputs": [],
   "source": []
  },
  {
   "cell_type": "code",
   "execution_count": null,
   "metadata": {},
   "outputs": [],
   "source": []
  },
  {
   "cell_type": "code",
   "execution_count": null,
   "metadata": {},
   "outputs": [],
   "source": []
  }
 ],
 "metadata": {
  "kernelspec": {
   "display_name": "Python 3",
   "language": "python",
   "name": "python3"
  },
  "language_info": {
   "codemirror_mode": {
    "name": "ipython",
    "version": 3
   },
   "file_extension": ".py",
   "mimetype": "text/x-python",
   "name": "python",
   "nbconvert_exporter": "python",
   "pygments_lexer": "ipython3",
   "version": "3.8.5"
  }
 },
 "nbformat": 4,
 "nbformat_minor": 4
}
