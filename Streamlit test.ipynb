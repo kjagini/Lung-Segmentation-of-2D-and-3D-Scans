{
 "cells": [
  {
   "cell_type": "code",
   "execution_count": null,
   "metadata": {},
   "outputs": [],
   "source": [
    "import streamlit as st\n",
    "import cv2\n",
    "from PIL import Image\n",
    "import numpy as np\n",
    "\n",
    "def app():\n",
    "    st.title(\"Image Segmentation\")\n",
    "\n",
    "    # Upload image\n",
    "    uploaded_image = st.file_uploader(\"Upload an image\", type=[\"jpg\", \"jpeg\", \"png\"])\n",
    "    \n",
    "    if uploaded_image is not None:\n",
    "        # Load image\n",
    "        image = Image.open(uploaded_image)\n",
    "        st.image(image, caption=\"Original Image\", use_column_width=True)\n",
    "\n",
    "        # Perform image segmentation\n",
    "        img = cv2.cvtColor(np.array(image), cv2.COLOR_RGB2BGR)\n",
    "        # perform image segmentation using OpenCV\n",
    "        # ...\n",
    "        \n",
    "        # Display the segmented image\n",
    "        segmented_image = Image.fromarray(cv2.cvtColor(img, cv2.COLOR_BGR2RGB))\n",
    "        st.image(segmented_image, caption=\"Segmented Image\", use_column_width=True)\n",
    "\n",
    "if __name__ == '__main__':\n",
    "    app()\n"
   ]
  },
  {
   "cell_type": "code",
   "execution_count": null,
   "metadata": {},
   "outputs": [],
   "source": []
  }
 ],
 "metadata": {
  "kernelspec": {
   "display_name": "Python 3",
   "language": "python",
   "name": "python3"
  },
  "language_info": {
   "codemirror_mode": {
    "name": "ipython",
    "version": 3
   },
   "file_extension": ".py",
   "mimetype": "text/x-python",
   "name": "python",
   "nbconvert_exporter": "python",
   "pygments_lexer": "ipython3",
   "version": "3.8.5"
  }
 },
 "nbformat": 4,
 "nbformat_minor": 4
}
